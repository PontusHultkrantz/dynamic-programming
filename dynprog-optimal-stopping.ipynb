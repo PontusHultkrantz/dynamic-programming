{
 "cells": [
  {
   "cell_type": "markdown",
   "metadata": {},
   "source": [
    "# Discrete control theory / Dynamic programming"
   ]
  },
  {
   "cell_type": "markdown",
   "metadata": {},
   "source": [
    "## Simple optimal stopping\n",
    "\n",
    "You are given an urn with $r$ red and $b$ black colored balls. You sequentally pick balls from the urn. If you draw a red ball you win $\\$1$, while you lose $\\$1$ if the ball is black. Before each draw you must decide whether you want to stop or continue.\n",
    "\n",
    "What is the fair value of the game, and what is the optimal strategy?\n",
    "\n",
    "\n",
    "Let $V(r, b)$ be the expected value of the game starting at state with $r$ red and $b$ black balls..\n",
    "\n",
    "$V(r,b)$ satisfies the recursion\n",
    "\n",
    "\\begin{align}\n",
    "V(r, b) &= \\begin{cases}\n",
    "0 & \\text{if $r=0$ and $b=0$} \\\\\n",
    "0 & \\text{if $r<0$ and $b<0$} \\\\\n",
    "\\max(0, f(r,b)) & \\text{if $r,b>0$} \\\\\n",
    "\\end{cases} \\\\\n",
    "&= \\begin{cases}\n",
    "0 & \\text{if $r=0$} \\\\\n",
    "r & \\text{if $r>0$ and $b=0$} \\\\\n",
    "\\max(0, f(r,b)) & \\text{if $r,b>0$} \\\\\n",
    "\\end{cases}\n",
    "\\end{align}\n",
    "where\n",
    "\\begin{align}\n",
    "f(r, b) = \\frac{r}{r+b} (1 + V(r-1, b)) + \\frac{b}{r+b} (-1 + V(r, b-1))),\n",
    "\\end{align}\n",
    "is the expected value in the next state after continuing by drawing a ball.\n",
    "\n",
    "The $\\max(0, f(r,b))$ is the stopping rule, i.e. we stop if the current value of stopping (zero) is greater than continuing.\n",
    "\n"
   ]
  },
  {
   "cell_type": "code",
   "execution_count": 1,
   "metadata": {},
   "outputs": [
    {
     "name": "stdout",
     "output_type": "stream",
     "text": [
      "EV(r,b) = EV(26,26) = 2.624\n"
     ]
    }
   ],
   "source": [
    "import numpy as np\n",
    "\n",
    "# Lattice method\n",
    "def optimal_play(r, b):\n",
    "    def pr_blk(r, b):\n",
    "        return b / (b + r)\n",
    "\n",
    "    def pr_red(r, b):\n",
    "        return r / (b + r)\n",
    "\n",
    "    cache = np.full((r + 1, b + 1, 2), fill_value=np.nan)\n",
    "    _STOP, _EITHER, _CONTINUE = 0.0, 0.5, 1.0\n",
    "    def EV(r, b):\n",
    "        if ~np.isnan(cache[r, b, 0]):\n",
    "            return cache[r, b, 0]\n",
    "        elif r == 0 and b == 0:\n",
    "            # Empty urn.\n",
    "            cache[r, b, :] = 0.0, _STOP\n",
    "            return 0.0\n",
    "        elif r<0 or b<0:\n",
    "            # Outside region.\n",
    "            return 0.0\n",
    "        else:\n",
    "            cont_value = pr_red(r, b) * (EV(r-1, b) + 1) + pr_blk(r, b) * (EV(r, b-1) - 1)\n",
    "            stop_value = 0.0\n",
    "            opt_value, opt_strat = (cont_value, _CONTINUE) if cont_value > stop_value else (stop_value, _STOP)\n",
    "            opt_strat = _EITHER if np.isclose(cont_value, stop_value) else opt_strat\n",
    "            cache[r, b, :] = opt_value, opt_strat\n",
    "            return opt_value\n",
    "    value = EV(r, b)\n",
    "    assert ~np.isnan(cache).any(), ValueError('Missing value in lattice graph.')\n",
    "    return value, cache\n",
    "    \n",
    "r, b = (26, 26)\n",
    "ev, strat = optimal_play(r, b)\n",
    "print( 'EV(r,b) = EV({},{}) = {}'.format(r, b, round(ev, 3)) )"
   ]
  },
  {
   "cell_type": "code",
   "execution_count": 2,
   "metadata": {},
   "outputs": [
    {
     "data": {
      "image/png": "[encoded data removed]",
      "text/plain": [
       "<Figure size 720x720 with 3 Axes>"
      ]
     },
     "metadata": {
      "needs_background": "light"
     },
     "output_type": "display_data"
    }
   ],
   "source": [
    "import seaborn as sns\n",
    "from matplotlib import colors, pyplot as plt\n",
    "\n",
    "cmap_stopping = colors.ListedColormap(['black', 'grey', 'white'])\n",
    "fig, axs = plt.subplots(1, 2, figsize=(10,10))\n",
    "g1 = sns.heatmap(strat[:,:,1], linecolor='k', cbar=False, square=True, cmap=cmap_stopping, ax=axs[0])\n",
    "g1.invert_xaxis()\n",
    "g1.set_title('Continue (white) \\n Either (grey) \\n Stop (black)')\n",
    "\n",
    "cbar_ax = fig.add_axes([.905, .35, .05, .3])\n",
    "# cmap= 'Greys' for printing else 'nipy_spectral'\n",
    "g2 = sns.heatmap(strat[:,:,0], linewidth=0.00, linecolor='k', cbar=True, cbar_ax = cbar_ax, square=True, cmap='nipy_spectral', ax=axs[1])\n",
    "g2.invert_xaxis()\n",
    "g2.set_title('Expected game value')\n",
    "plt.show()"
   ]
  },
  {
   "cell_type": "markdown",
   "metadata": {},
   "source": [
    "## Simple optimal stopping with single payout on stopping\n",
    "\n",
    "Draw balls from urn. You can only guess once whether the next ball is red. If you are correct you win $\\$1$ and game ends, else game ends and you win nothing.\n",
    "\n",
    "\\begin{align}\n",
    "V(r, b) &= \\begin{cases}\n",
    "0 & \\text{if $r=0$} \\\\\n",
    "1 & \\text{if $r>0$ and $b=0$} \\\\\n",
    "\\max\\left(\\frac{r}{r+b}, f(r,b)\\right) & \\text{if $r,b>0$} \\\\\n",
    "\\end{cases}\n",
    "\\end{align}\n",
    "\n",
    "where\n",
    "\\begin{align}\n",
    "f(r, b) = \\frac{r}{r+b} V(r-1, b) + \\frac{b}{r+b} V(r, b-1),\n",
    "\\end{align}\n",
    "is the expected value given that we continue and do not call out the a red card.\n",
    "\n",
    "The $\\max(0, f(r,b))$ is the stopping rule, i.e. we call out a red card if the expected payoff from calling out a red card is greater than continuing.\n",
    "\n",
    "**NB**: in case of equal number of red and black balls, the probability is 1/2. It's a consequence of the Optional Stopping Theorem. The percent of cards that are left in the deck in the future, standing at time zero is a martingale. Choosing when to stop and guess red is a stopping time. The expected value of a martingale at a stopping time is equal to the initial value, which is 1/2.\n",
    "\n"
   ]
  },
  {
   "cell_type": "code",
   "execution_count": 3,
   "metadata": {},
   "outputs": [
    {
     "name": "stdout",
     "output_type": "stream",
     "text": [
      "EV(r,b) = EV(26,26) = 0.5\n"
     ]
    }
   ],
   "source": [
    "def optimal_play(r, b):\n",
    "    def pr_blk(r, b):\n",
    "        return b / (b + r)\n",
    "\n",
    "    def pr_red(r, b):\n",
    "        return r / (b + r)\n",
    "\n",
    "    cache = np.full((r + 1, b + 1, 2), fill_value=np.nan)\n",
    "    _STOP, _EITHER, _CONTINUE = 0.0, 0.5, 1.0\n",
    "    def EV(r, b):\n",
    "        if ~np.isnan(cache[r, b, 0]):\n",
    "            return cache[r, b, 0]\n",
    "        elif r == 0 and b == 0:\n",
    "            # Empty urn.\n",
    "            cache[r, b, :] = 0.0, _STOP\n",
    "            return 0.0\n",
    "        elif r<0 or b<0:\n",
    "            # Outside region.\n",
    "            return 0.0\n",
    "        else:\n",
    "            cont_value = pr_red(r, b) * EV(r-1, b) + pr_blk(r, b) * EV(r, b-1)\n",
    "            stop_value = pr_red(r, b)\n",
    "            opt_value, opt_strat = (cont_value, _CONTINUE) if cont_value > stop_value else (stop_value, _STOP)\n",
    "            opt_strat = _EITHER if np.isclose(cont_value, stop_value) else opt_strat\n",
    "            cache[r, b, :] = opt_value, opt_strat\n",
    "            return opt_value\n",
    "        \n",
    "    return EV(r, b), cache\n",
    "    \n",
    "r, b = (26, 26)\n",
    "ev, strat = optimal_play(r, b)\n",
    "print( 'EV(r,b) = EV({},{}) = {}'.format(r, b, round(ev, 3)) )\n",
    "#print(strat)"
   ]
  },
  {
   "cell_type": "code",
   "execution_count": 4,
   "metadata": {},
   "outputs": [
    {
     "data": {
      "image/png": "[encoded data removed]",
      "text/plain": [
       "<Figure size 720x720 with 3 Axes>"
      ]
     },
     "metadata": {
      "needs_background": "light"
     },
     "output_type": "display_data"
    }
   ],
   "source": [
    "import seaborn as sns\n",
    "from matplotlib import colors, pyplot as plt\n",
    "\n",
    "\n",
    "opt_action = strat[:, :, 1]\n",
    "cmap_stopping = colors.ListedColormap(['black', 'grey', 'white'])\n",
    "fig, axs = plt.subplots(1, 2, figsize=(10,10))\n",
    "g1 = sns.heatmap(opt_action, linecolor='k', cbar=False, square=True, cmap=cmap_stopping, ax=axs[0], vmin=0, vmax=1)\n",
    "g1.invert_xaxis()\n",
    "g1.set_title('Continue (white) \\n Either (grey) \\n Stop (black)')\n",
    "\n",
    "\n",
    "opt_value = strat[:, :, 0]\n",
    "cbar_ax = fig.add_axes([.905, .35, .05, .3])\n",
    "# cmap= 'Greys' for printing else 'nipy_spectral'\n",
    "g2 = sns.heatmap(opt_value, linewidth=0.00, linecolor='k', cbar=True, cbar_ax = cbar_ax, square=True, cmap='nipy_spectral', ax=axs[1])\n",
    "g2.invert_xaxis()\n",
    "g2.set_title('Expectged game value')\n",
    "plt.show()"
   ]
  },
  {
   "cell_type": "markdown",
   "metadata": {},
   "source": [
    "## Optimal stopping with control variable\n",
    "\n",
    "You are given an urn with $r$ red and $b$ black colored balls and initial wealth $w$. You sequentally pick balls from the urn until it is empty. Before each ball is picked, you choose to make a bet $0 \\leq x \\leq w$ on whether the ball is going to be red or black. If you win, you make $x$ and if you incorrect, you lose $x$.\n",
    "\n",
    "If you want to maximize the expected terminal wealth, what is the optimal strategy?\n",
    "\n",
    "\n",
    "Let $V(r, b, w; \\pi)$ be the expected value of the game starting at state with $r$ red and $b$ black balls, and wealth $w$. Apart from deciding whether to bet red or black, we must decide what fraction $u$ of current wealth to bet, $0\\leq u \\leq w$.\n",
    "\n",
    "\\begin{align}\n",
    "V(r, b) &= \\begin{cases}\n",
    "0 & \\text{if $r=0$} \\\\\n",
    "1 & \\text{if $r>0$ and $b=0$} \\\\\n",
    "\\max\\left\\{\\max_u f_r(r-1,b,w;u), \\max_u f_b(r,b-1,w;u) \\right\\} & \\text{if $r,b>0$} \\\\\n",
    "\\end{cases}\n",
    "\\end{align}\n",
    "\n",
    "where\n",
    "\\begin{align}\n",
    "f_r(r, b, w; u) &= \\frac{r}{r+b} V(r-1, b, (1 + u)w) + \\frac{b}{r+b} V(r, b-1, (1-u)w), \\\\\n",
    "f_b(r, b, w; u) &= \\frac{r}{r+b} V(r-1, b, (1 - u)w) + \\frac{b}{r+b} V(r, b-1, (1+u)w).\n",
    "\\end{align}\n",
    "\n",
    "That is, $f_r$ is the expected value if we bet $u$ of our wealth on red, and $f_b$ is the expected value if we bet $u$ of our wealth on black.\n",
    "\n",
    "For convenience, we incorporate the decision to bet on color into the bet size by equating a negative fraction a bet on black, hence $-w \\leq u \\leq w$. This allows us to define $f(r, b, w; u) := f_r(r, b, w; u)$ such that  $f(r, b, w; -u) \\equiv f_b(r, b, w; u)$. We can now write the recursion as\n",
    "\n",
    "\\begin{align}\n",
    "V(r, b) &= \\begin{cases}\n",
    "0 & \\text{if $r=0$} \\\\\n",
    "1 & \\text{if $r>0$ and $b=0$} \\\\\n",
    "\\max\\left\\{\\max_{u\\geq 0} f(r,b,w;u), \\max_{u\\geq 0} f(r,b,w;-u) \\right\\} & \\text{if $r,b>0$} \\\\\n",
    "\\end{cases} \\\\\n",
    "&= \\begin{cases}\n",
    "0 & \\text{if $r=0$} \\\\\n",
    "1 & \\text{if $r>0$ and $b=0$} \\\\\n",
    "\\max_{0 \\leq u \\leq 1} f(r,b,w;u) & \\text{if $r,b>0$} \\\\\n",
    "\\end{cases}\n",
    "\\end{align}\n",
    "\n",
    "where\n",
    "\\begin{align}\n",
    "f(r, b, w; u) &= \\frac{r}{r+b} V(r-1, b, (1 + u)w) + \\frac{b}{r+b} V(r, b-1, (1-u)w).\n",
    "\\end{align}"
   ]
  },
  {
   "cell_type": "code",
   "execution_count": 5,
   "metadata": {
    "scrolled": false
   },
   "outputs": [
    {
     "name": "stdout",
     "output_type": "stream",
     "text": [
      "EV(r,b,w) = EV(26,26,1.0) = 9.081\n"
     ]
    }
   ],
   "source": [
    "import numpy as np\n",
    "from scipy.optimize import minimize\n",
    "\n",
    "def optimal_play(r, b, wealth):\n",
    "    \n",
    "    def pr_blk(r, b):\n",
    "        return b / (b + r)\n",
    "\n",
    "    def pr_red(r, b):\n",
    "        return r / (b + r)\n",
    "\n",
    "    def E_bet_red(u, wealth, r, b):\n",
    "        u = u[0]\n",
    "        return pr_red(r, b) * EV(r-1, b, wealth * (1 + u)) + pr_blk(r, b) * EV(r, b-1, wealth * (1 - u))\n",
    "    \n",
    "    def E_bet_blk(u, wealth, r, b):\n",
    "        u = u[0]\n",
    "        return pr_red(r, b) * EV(r-1, b, wealth * (1 - u)) + pr_blk(r, b) * EV(r, b-1, wealth * (1 + u))\n",
    "\n",
    "    def max_u(func, r, b, wealth):\n",
    "        bnds = [(0, 1)]\n",
    "        nfunc = lambda u : -func(u, wealth, r, b)\n",
    "        res = minimize(nfunc, x0=0.0, bounds=bnds)\n",
    "        return {'val': -res.fun, 'u': res.x[0]}\n",
    "    \n",
    "    cache = np.full((r + 1, b + 1, 2), fill_value=np.nan)\n",
    "    _BLK, _RED = -1.0, 1.0\n",
    "    def EV(r, b, wealth):\n",
    "        if ~np.isnan(cache[r, b, 0]):\n",
    "            return cache[r,b,0] * wealth\n",
    "        elif r==0 and b==0:\n",
    "            cache[r,b, :] = wealth / wealth, 0.0\n",
    "            return wealth\n",
    "        elif r<0 or b<0:\n",
    "            return 0.0\n",
    "        else:\n",
    "            best_red = max_u(E_bet_red, r, b, wealth)\n",
    "            best_blk = max_u(E_bet_blk, r, b, wealth)\n",
    "            opt_value, opt_color = (best_red, _RED) if best_red['val'] > best_blk['val'] else (best_blk, _BLK)\n",
    "            cache[r, b, :] = opt_value['val'] / wealth, opt_value['u']*opt_color\n",
    "            return opt_value['val']\n",
    "    return EV(r, b, wealth), cache\n",
    "\n",
    "\n",
    "r, b, w = (26, 26, 1.0)\n",
    "ev, strat = optimal_play(r, b, w)\n",
    "print( 'EV(r,b,w) = EV({},{},{}) = {}'.format(r, b, w, round(ev, 3)) )"
   ]
  },
  {
   "cell_type": "code",
   "execution_count": 6,
   "metadata": {},
   "outputs": [
    {
     "data": {
      "image/png": "[encoded data removed]",
      "text/plain": [
       "<Figure size 720x720 with 4 Axes>"
      ]
     },
     "metadata": {
      "needs_background": "light"
     },
     "output_type": "display_data"
    }
   ],
   "source": [
    "import seaborn as sns\n",
    "from matplotlib import colors, pyplot as plt\n",
    "\n",
    "\n",
    "fig, axs = plt.subplots(1, 2, figsize=(10,10))\n",
    "\n",
    "\n",
    "\n",
    "cmap_linseg = colors.LinearSegmentedColormap.from_list(\"\", ['black', 'white', 'red'])\n",
    "#cmap_linseg = colors.ListedColormap(['black', 'white', 'red'])\n",
    "opt_bet = strat[:, :, 1]\n",
    "cbar_ax = fig.add_axes([.450, .35, .05, .3])\n",
    "g2 = sns.heatmap(opt_bet, linewidth=0.00, linecolor='k', cbar=True, cbar_ax = cbar_ax, square=True, cmap=cmap_linseg, ax=axs[0])\n",
    "g2.invert_xaxis()\n",
    "g2.set_title('Optimal bet fraction')\n",
    "\n",
    "opt_value = strat[:, :, 0]\n",
    "cbar_ax = fig.add_axes([.905, .35, .05, .3])\n",
    "# cmap= 'Greys' for printing else 'nipy_spectral'\n",
    "g3 = sns.heatmap(opt_value, linewidth=0.00, linecolor='k', cbar=True, cbar_ax = cbar_ax, square=True, cmap='nipy_spectral', ax=axs[1])\n",
    "g3.invert_xaxis()\n",
    "g3.set_title('Expected game value')\n",
    "\n",
    "\n",
    "plt.subplots_adjust(wspace=0.5) \n",
    "plt.show()"
   ]
  }
 ],
 "metadata": {
  "kernelspec": {
   "display_name": "Python 3 (ipykernel)",
   "language": "python",
   "name": "python3"
  },
  "language_info": {
   "codemirror_mode": {
    "name": "ipython",
    "version": 3
   },
   "file_extension": ".py",
   "mimetype": "text/x-python",
   "name": "python",
   "nbconvert_exporter": "python",
   "pygments_lexer": "ipython3",
   "version": "3.9.1"
  }
 },
 "nbformat": 4,
 "nbformat_minor": 2
}
